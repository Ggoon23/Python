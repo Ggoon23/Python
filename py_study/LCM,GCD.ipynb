{
 "cells": [
  {
   "cell_type": "markdown",
   "id": "c4fb7173",
   "metadata": {
    "vscode": {
     "languageId": "plaintext"
    }
   },
   "source": [
    "# 함수활용\n",
    "\n",
    "import math\n",
    "## 최대공약수\n",
    "math.gcd(num1,num2)\n",
    "## 최소공배수 \n",
    "math.lcm(num1,num2)"
   ]
  },
  {
   "cell_type": "markdown",
   "id": "2ac1c679",
   "metadata": {},
   "source": [
    "# 공약수 구하기\n",
    "for i in range(1, min(num1,num2) +1):\n",
    "\n",
    "    if num1 % i ==0 and num2 % i == 0:\n",
    "\n",
    "        공약수_리스트.append(i)"
   ]
  },
  {
   "cell_type": "markdown",
   "id": "feafd27b",
   "metadata": {
    "vscode": {
     "languageId": "plaintext"
    }
   },
   "source": [
    "# 최대공약수\n",
    "for i in range(max(nunm1,num2),0,-1)\n",
    "\n",
    "    if num1 % i == 0 and num2 % i == 0:\n",
    "\n",
    "        break\n",
    "\n",
    "# 유클리드 호제법\n",
    "\n",
    "while b :\n",
    "\n",
    "    a, b = b, a %\n",
    "\n",
    "return a"
   ]
  },
  {
   "cell_type": "markdown",
   "id": "df6ec799",
   "metadata": {
    "vscode": {
     "languageId": "plaintext"
    }
   },
   "source": [
    "# 최소공배수\n",
    "for i in range(min(num1,num2),num1*num2+1):\n",
    "\n",
    "    if i % num1  ==0 and i % num2 == 0:\n",
    "\n",
    "        break"
   ]
  },
  {
   "cell_type": "markdown",
   "id": "479d77db",
   "metadata": {},
   "source": []
  }
 ],
 "metadata": {
  "language_info": {
   "name": "python"
  }
 },
 "nbformat": 4,
 "nbformat_minor": 5
}
