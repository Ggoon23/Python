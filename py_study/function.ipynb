{
 "cells": [
  {
   "cell_type": "markdown",
   "id": "cd769eb1",
   "metadata": {},
   "source": [
    "# lambda\n",
    "\n",
    "lambda 매개변수 : 표현식"
   ]
  },
  {
   "cell_type": "code",
   "execution_count": 2,
   "id": "1d1eff20",
   "metadata": {},
   "outputs": [
    {
     "data": {
      "text/plain": [
       "30"
      ]
     },
     "execution_count": 2,
     "metadata": {},
     "output_type": "execute_result"
    }
   ],
   "source": [
    "(lambda x,y : x+y)(10,20)"
   ]
  },
  {
   "cell_type": "code",
   "execution_count": 3,
   "id": "e1257d8e",
   "metadata": {},
   "outputs": [
    {
     "data": {
      "text/plain": [
       "<map at 0x103e52b00>"
      ]
     },
     "execution_count": 3,
     "metadata": {},
     "output_type": "execute_result"
    }
   ],
   "source": [
    "map(lambda x : x**2 , range(5))"
   ]
  },
  {
   "cell_type": "code",
   "execution_count": 4,
   "id": "682567d8",
   "metadata": {},
   "outputs": [
    {
     "data": {
      "text/plain": [
       "[0, 1, 4, 9, 16]"
      ]
     },
     "execution_count": 4,
     "metadata": {},
     "output_type": "execute_result"
    }
   ],
   "source": [
    "list(map(lambda x : x**2, range(5)))"
   ]
  },
  {
   "cell_type": "markdown",
   "id": "4db646c6",
   "metadata": {},
   "source": [
    "# reduce\n",
    "\n",
    "reduce(함수, 시퀀스)\n",
    "\n",
    "시퀀스(문자열, 리스트, 튜플)의 원소들을 누적시킴"
   ]
  },
  {
   "cell_type": "markdown",
   "id": "6cd19371",
   "metadata": {},
   "source": []
  },
  {
   "cell_type": "code",
   "execution_count": 6,
   "id": "647abab1",
   "metadata": {},
   "outputs": [
    {
     "data": {
      "text/plain": [
       "15"
      ]
     },
     "execution_count": 6,
     "metadata": {},
     "output_type": "execute_result"
    }
   ],
   "source": [
    "from functools import reduce\n",
    "reduce(lambda x, y : x+ y, [ 1,2,3,4,5 ])"
   ]
  },
  {
   "cell_type": "code",
   "execution_count": 13,
   "id": "a0daa025",
   "metadata": {},
   "outputs": [
    {
     "data": {
      "text/plain": [
       "'edcb,a'"
      ]
     },
     "execution_count": 13,
     "metadata": {},
     "output_type": "execute_result"
    }
   ],
   "source": [
    "reduce(lambda x, y : y + x, [ 'a',',','b','c','d','e' ])"
   ]
  },
  {
   "cell_type": "code",
   "execution_count": null,
   "id": "0a105942",
   "metadata": {},
   "outputs": [],
   "source": []
  }
 ],
 "metadata": {
  "kernelspec": {
   "display_name": "Python 3",
   "language": "python",
   "name": "python3"
  },
  "language_info": {
   "codemirror_mode": {
    "name": "ipython",
    "version": 3
   },
   "file_extension": ".py",
   "mimetype": "text/x-python",
   "name": "python",
   "nbconvert_exporter": "python",
   "pygments_lexer": "ipython3",
   "version": "3.13.3"
  }
 },
 "nbformat": 4,
 "nbformat_minor": 5
}
