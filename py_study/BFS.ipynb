{
 "cells": [
  {
   "cell_type": "markdown",
   "id": "e1ff0a46",
   "metadata": {},
   "source": [
    "# BFS (너비 우선 탐색 Breadth First Search)\n",
    "\n",
    "- 시작 정점으로 부터 가까운 정점을 먼저 방문하고 멀리 떨어져 있는 정점을 나중에 방문하는 순회 방법 \n",
    "- 최단거리, 최소비용과 같이 최솟값과 관련된 문제 해결에 사용"
   ]
  },
  {
   "cell_type": "markdown",
   "id": "dd550164",
   "metadata": {},
   "source": []
  },
  {
   "cell_type": "code",
   "execution_count": 1,
   "id": "88c089de",
   "metadata": {},
   "outputs": [],
   "source": [
    "# 예제코드\n",
    "\n",
    "from collections import deque\n",
    "\n",
    "def bfs(graph,start):\n",
    "    visited = [] # 방문한 정점 저장\n",
    "    queue = deque([start]) # 시작 정점을 큐에 삽입\n",
    "\n",
    "    while queue : # 큐가 소진될때까지\n",
    "        node = queue.popleft() # 가장 앞 정점을 빼서\n",
    "        if node not in visited: \n",
    "            visited.append(node) # 방문기록에 넣고, 현재 정점과 인점한 정점들을 큐에 추가\n",
    "            queue.extend([neighbor for neighbor in graph[node] if neighbor not in visited ])\n",
    "\n",
    "    return visited"
   ]
  },
  {
   "cell_type": "markdown",
   "id": "3c8423b1",
   "metadata": {},
   "source": [
    "# 적용예시\n",
    "# 프로그래머스 안전지대\n",
    "\n",
    "- 지뢰는 2차원 배열 board에 1로 표시되어 있고 board에는 지뢰가 매설 된 지역 1과, 지뢰가 없는 지역 0만 존재합니다.\n",
    "- 지뢰가 매설된 지역의 지도 board가 매개변수로 주어질 때, 안전한 지역의 칸 수를 return하도록 solution 함수를 완성해주세요."
   ]
  },
  {
   "cell_type": "code",
   "execution_count": 4,
   "id": "cd09b94a",
   "metadata": {},
   "outputs": [],
   "source": [
    "from collections import deque\n",
    "\n",
    "def solution(board):\n",
    "    a = len(board)\n",
    "    b = len(board[0])\n",
    "\n",
    "    na = [-1,-1,-1,0,0,1,1,1]\n",
    "    nb = [-1,0,1,-1,1,-1,0,1]\n",
    "\n",
    "    q = deque()\n",
    "\n",
    "    danger = [[0 for _ in range(b)] for _ in range (a)]\n",
    "\n",
    "    for i in range (a) :\n",
    "        for j in range (b) :\n",
    "            if board[i][j] == 1:\n",
    "                q.append((i,j))\n",
    "                danger[i][j] = 1\n",
    "    while q:\n",
    "        di, dj  = q.popleft()\n",
    "\n",
    "        for i in range (8) :\n",
    "            nr, nc = di+na[i], dj+nb[i]\n",
    "            if 0 <= nr < a and 0 <= nc < b and danger[nr][nc] == 0 :\n",
    "                danger[nr][nc] = 1\n",
    "    \n",
    "    safezone = 0\n",
    "    for i in range (a) :\n",
    "        for j in range (b) :\n",
    "            if danger[i][j]==0 : \n",
    "                safezone += 1\n",
    "\n",
    "\n",
    "\n",
    "    return safezone"
   ]
  },
  {
   "cell_type": "code",
   "execution_count": 5,
   "id": "13f84763",
   "metadata": {},
   "outputs": [
    {
     "name": "stdout",
     "output_type": "stream",
     "text": [
      "16\n"
     ]
    }
   ],
   "source": [
    "board = [[0, 0, 0, 0, 0], [0, 0, 0, 0, 0], [0, 0, 0, 0, 0], [0, 0, 1, 0, 0], [0, 0, 0, 0, 0]]\n",
    "print(solution(board))"
   ]
  },
  {
   "cell_type": "code",
   "execution_count": 8,
   "id": "96597385",
   "metadata": {},
   "outputs": [
    {
     "name": "stdout",
     "output_type": "stream",
     "text": [
      "13\n"
     ]
    }
   ],
   "source": [
    "board = [[0, 0, 0, 0, 0], [0, 0, 0, 0, 0], [0, 0, 0, 0, 0], [0, 0, 1, 1, 0], [0, 0, 0, 0, 0]]\n",
    "print(solution(board))"
   ]
  },
  {
   "cell_type": "code",
   "execution_count": 9,
   "id": "f77cd258",
   "metadata": {},
   "outputs": [
    {
     "name": "stdout",
     "output_type": "stream",
     "text": [
      "0\n"
     ]
    }
   ],
   "source": [
    "board = [[1, 1, 1, 1, 1, 1], [1, 1, 1, 1, 1, 1], [1, 1, 1, 1, 1, 1], [1, 1, 1, 1, 1, 1], [1, 1, 1, 1, 1, 1], [1, 1, 1, 1, 1, 1]]\n",
    "print(solution(board))"
   ]
  },
  {
   "cell_type": "code",
   "execution_count": null,
   "id": "16900368",
   "metadata": {},
   "outputs": [],
   "source": []
  }
 ],
 "metadata": {
  "kernelspec": {
   "display_name": "Python 3",
   "language": "python",
   "name": "python3"
  },
  "language_info": {
   "codemirror_mode": {
    "name": "ipython",
    "version": 3
   },
   "file_extension": ".py",
   "mimetype": "text/x-python",
   "name": "python",
   "nbconvert_exporter": "python",
   "pygments_lexer": "ipython3",
   "version": "3.13.3"
  }
 },
 "nbformat": 4,
 "nbformat_minor": 5
}
