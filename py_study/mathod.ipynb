{
 "cells": [
  {
   "cell_type": "markdown",
   "id": "0cdd772f",
   "metadata": {},
   "source": [
    "# .join()\n",
    "\"\".join(age)으로 answer의 요소들을 연결하여 출력할 수 있음\n",
    "\n",
    " 문자열이 아닌경우 map(str,age)를 활용해 문자열로 변경해 출력가능\n",
    " - 예시\n",
    "  age = [23,24,25]\n",
    "  \"\".join(map(str,age))\n",
    " 출력결과 : 232425\n",
    "\n",
    " - join을 사용하지 않는 경우는 아래를 활용해야함\n",
    "\n",
    " for char in my_array:\n",
    "    result_string += char"
   ]
  },
  {
   "cell_type": "markdown",
   "id": "d75fee9d",
   "metadata": {},
   "source": [
    "# .split()\n",
    "letter.split() 으로 문자열을 list로 변경할수 있음\n",
    "\n",
    "- 예시 letter = \"h e l l o\"\n",
    "- letter.split()\n",
    "- 출력결과 : ['h','e','l','l','o']\n"
   ]
  },
  {
   "cell_type": "markdown",
   "id": "4b0fdc2b",
   "metadata": {},
   "source": [
    "# .isdigit()\n",
    "i.isdigit()으로 i가 숫자인지 일반 텍스트인지 구별할 수 있음\n",
    "숫자인경우 True 텍스트인 경우 False 를 출력\n",
    "- 예시 : a=['a1b2c3'] \n",
    "- a = [i for i in text if i.isdigit()]\n",
    "- 출력결과 : [1,2,3]"
   ]
  },
  {
   "cell_type": "code",
   "execution_count": null,
   "id": "4fbfb91b",
   "metadata": {},
   "outputs": [],
   "source": []
  },
  {
   "cell_type": "markdown",
   "id": "201b9482",
   "metadata": {},
   "source": []
  }
 ],
 "metadata": {
  "kernelspec": {
   "display_name": "Python 3",
   "language": "python",
   "name": "python3"
  },
  "language_info": {
   "codemirror_mode": {
    "name": "ipython",
    "version": 3
   },
   "file_extension": ".py",
   "mimetype": "text/x-python",
   "name": "python",
   "nbconvert_exporter": "python",
   "pygments_lexer": "ipython3",
   "version": "3.13.3"
  }
 },
 "nbformat": 4,
 "nbformat_minor": 5
}
