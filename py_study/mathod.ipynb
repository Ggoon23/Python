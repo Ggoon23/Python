{
 "cells": [
  {
   "cell_type": "markdown",
   "id": "0cdd772f",
   "metadata": {},
   "source": [
    "\"\".join(age)으로 answer의 요소들을 연결하여 출력할 수 있음\n",
    "\n",
    " 문자열이 아닌경우 map(str,age)를 활용해 문자열로 변경해 출력가능\n",
    "\n",
    " join을 사용하지 않는 경우는 아래를 활용해야함\n",
    "\n",
    " for char in my_array:\n",
    "    result_string += char"
   ]
  },
  {
   "cell_type": "code",
   "execution_count": null,
   "id": "d75fee9d",
   "metadata": {
    "vscode": {
     "languageId": "plaintext"
    }
   },
   "outputs": [],
   "source": []
  }
 ],
 "metadata": {
  "language_info": {
   "name": "python"
  }
 },
 "nbformat": 4,
 "nbformat_minor": 5
}
