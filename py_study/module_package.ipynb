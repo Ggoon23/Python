{
 "cells": [
  {
   "cell_type": "markdown",
   "id": "1cceb89e",
   "metadata": {},
   "source": [
    "# Module\n",
    "\n",
    "파이썬 코드를 담고있는 .py 파일\n",
    "\n",
    "import를 사용하면 기본 함수처럼 사용가능\n",
    "ex) math.exp(x) -> import math \\n exp(x)\n",
    "\n",
    "- math : 수학관련 \n",
    "    - math.exp(x): e^x \n",
    "    - math.sqrt(x): x의 제곱근\n",
    "    - math.ceil(x): 올림\n",
    "    - math.floor(x): 내림\n",
    "    - math.trunc(x): 버림 \n",
    "    - math.round(x) : 반올림\n",
    "    - math.factorial(n) : n!\n",
    "    - math.gcd(a,b) : a,b의 최대공약수 \n",
    " \n",
    "- random : 난수 생성함수\n",
    "    - random.random() : 랜덤 수치 반환\n",
    "\n",
    "- functools : 고차함수에 유용한 함수 및 연산을 위한 도구 제공\n",
    "    - functools.reduce() : 각 항목에 function을 누적적으로 적용 \n",
    "    ex) reduce(lambda x, y: x + y, [1, 2, 3, 4, 5]) -> 15\n",
    "\n",
    "- collections : 내장 컨테이너(list,tuple 등)의 기능 확장 및 대체\n",
    "    - collecrion.counter() : \n",
    "    - collection.deque() :\n"
   ]
  },
  {
   "cell_type": "markdown",
   "id": "dbe01c77",
   "metadata": {},
   "source": []
  }
 ],
 "metadata": {
  "language_info": {
   "name": "python"
  }
 },
 "nbformat": 4,
 "nbformat_minor": 5
}
