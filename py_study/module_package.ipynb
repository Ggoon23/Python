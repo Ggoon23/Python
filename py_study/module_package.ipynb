{
 "cells": [
  {
   "cell_type": "markdown",
   "id": "1cceb89e",
   "metadata": {},
   "source": [
    "# Module\n",
    "\n",
    "파이썬 코드를 담고있는 .py 파일\n",
    "\n",
    "import를 사용하면 기본 함수처럼 사용가능\n",
    "ex) math.exp(x) -> import math \\n exp(x)\n",
    "\n",
    "- math : 수학관련 \n",
    "    - math.exp(x): e^x \n",
    "    - math.sqrt(x): x의 제곱근\n",
    "    - math.ceil(x): 올림\n",
    "    - math.floor(x): 내림\n",
    "    - math.trunc(x): 버림 \n",
    "    - math.round(x) : 반올림\n",
    "    - math.factorial(n) : n!\n",
    "    - math.gcd(a,b) : a,b의 최대공약수 \n",
    " \n",
    "- random : 난수 생성함수\n",
    "    - random.random() : 랜덤 수치 반환\n",
    "\n",
    "- functools : 고차함수에 유용한 함수 및 연산을 위한 도구 제공\n",
    "    - functools.reduce() : 각 항목에 function을 누적적으로 적용 \n",
    "    ex) reduce(lambda x, y: x + y, [1, 2, 3, 4, 5]) -> 15\n",
    "\n",
    "- collections : 내장 컨테이너(list,tuple 등)의 기능 확장 및 대체\n",
    "    - collecrion.counter() : \n",
    "    - collection.deque() :\n"
   ]
  },
  {
   "cell_type": "markdown",
   "id": "dbe01c77",
   "metadata": {},
   "source": [
    "- re : 정규표현식을 처리하기 위한 라이브러리, 문자열에서 특정 패턴을 검색하거나 치환하거나 분리하는 등 복잡한 문자열 처리가능\n",
    "    - re.search(pattern, srting) : 문자열 전체를 검색하여 패턴과 일치하는 첫번째 결과 반환\n",
    "    - re.match(pattern, string) : 문자열의 시작부분에서만 패턴이 일치하는지 확인\n",
    "    - re.findall(pattern, string) : 모든 일치하는 패턴을 리스트로 반환\n",
    "    - re.sub(pattern, repl, string) : 일치하는 패턴을 다른 문자열로 치환\n",
    "    - re.split(pattern, string) : 패턴을 기준으로 문자열을 분할\n",
    "    - re.compile(pattern, flages=0) : 정규식을 객체화 해서 한번 정의하고 여러번 쓰는 상황에서 유용함, flags는 선택적 플래그(대소문자 무시 등)\n",
    "\n",
    "    기본문법\n",
    "    - . : 임의의 한문자\n",
    "    - \\d : 숫자(0-9)\n",
    "    - \\D : 숫자가 아닌 문자\n",
    "    - \\w : 알파벳 문자, 숫자, 밑줄\n",
    "    - \\s : 공백문자 (스페이스, 탭 등)\n",
    "    - ^ : 문자열의 시작\n",
    "    - $ : 문자열의 끝\n",
    "    - * : 0번이상 반복\n",
    "    - + : 1번이상 반복\n",
    "    - ? : 0번 또는 1번\n",
    "    - {n} : n번 반복\n",
    "    - {n,m} : n~m번 반복\n",
    "    - [] : 문자 클래스 "
   ]
  },
  {
   "cell_type": "markdown",
   "id": "0845add0",
   "metadata": {},
   "source": []
  }
 ],
 "metadata": {
  "language_info": {
   "name": "python"
  }
 },
 "nbformat": 4,
 "nbformat_minor": 5
}
